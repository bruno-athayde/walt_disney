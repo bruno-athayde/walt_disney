{
 "cells": [
  {
   "cell_type": "markdown",
   "metadata": {},
   "source": [
    "## The Walt Disney Company"
   ]
  },
  {
   "cell_type": "markdown",
   "metadata": {},
   "source": [
    "### Bruno Athayde e Silva"
   ]
  },
  {
   "cell_type": "markdown",
   "metadata": {},
   "source": [
    " "
   ]
  },
  {
   "cell_type": "markdown",
   "metadata": {},
   "source": [
    "## Table of Contents"
   ]
  },
  {
   "cell_type": "markdown",
   "metadata": {},
   "source": [
    "### [Introduction](#introduction)\n",
    "\n",
    "   - [Dataset Description](#description)\n",
    "\n",
    "   - [Question of Interest](#question)\n",
    "\n",
    "\n",
    "### [Methodology](#methodology)\n",
    "\n",
    "### [Discussions](#discussions)\n",
    "\n",
    "### [Reference](#reference)"
   ]
  },
  {
   "cell_type": "markdown",
   "metadata": {},
   "source": [
    " "
   ]
  },
  {
   "cell_type": "markdown",
   "metadata": {},
   "source": [
    "### Introduction\n",
    "<a id = 'introduction'></a>"
   ]
  },
  {
   "cell_type": "markdown",
   "metadata": {},
   "source": [
    "#### Dataset Description\n",
    "<a id = 'description'></a>"
   ]
  },
  {
   "cell_type": "markdown",
   "metadata": {},
   "source": [
    "The description below was taken from the Wikipedia [website](https://en.wikipedia.org/wiki/The_Walt_Disney_Company) dedicated to The Walt Disney Company.\n",
    "\n",
    "\"The Walt Disney Company, commonly known as Disney is an American multinational mass media and entertainment conglomerate headquartered at the Walt Disney Studios complex in Burbank, California.\n",
    "\n",
    "Disney was originally founded on October 16, 1923, by brothers Walt and Roy O. Disney as the Disney Brothers Cartoon Studio; it also operated under the names the Walt Disney Studio and Walt Disney Productions before changing its name to the Walt Disney Company in 1986. The company established itself as a leader in the American animation industry before diversifying into live-action film production, television, and theme parks.\n",
    "\n",
    "Since the 1980s, Disney has created and acquired corporate divisions in order to market more mature content than is typically associated with its flagship family-oriented brands. The company is known for its film studio division, Walt Disney Studios, which includes Walt Disney Pictures, Walt Disney Animation Studios, Pixar, Marvel Studios, Lucasfilm, 20th Century Studios, 20th Century Animation, and Searchlight Pictures.\"\n",
    "\n",
    "I will use the `disney-characters.csv` and `disney_movies_total_gross.csv` for my analysis.\n",
    "\n",
    "- **disney-characters**\n",
    "    - This table contains information about the movies and each characters (hero or villain type) in it.\n",
    "\n",
    "- **disney_movies_total_gross**\n",
    "    - This table contains information about the Disney movies box office. "
   ]
  },
  {
   "cell_type": "markdown",
   "metadata": {},
   "source": [
    "#### Question of Interest\n",
    "<a id = 'question'></a>"
   ]
  },
  {
   "cell_type": "markdown",
   "metadata": {},
   "source": [
    " "
   ]
  },
  {
   "cell_type": "markdown",
   "metadata": {},
   "source": [
    "This analysis will investigate the relationship between box office gross and Disney characters of children's movies. This will also investigate the relationship between box office gross and movies' genre.\n",
    "\n",
    "I am interested in finding out if exists any correlation between those variables. For example, one would think that movies with strong heroes like Moana, Alladin, or Elsa would be more popular and, consequently, bring more revenue to the company. Or one would also think that movies' genres are related to a movie success or not. "
   ]
  },
  {
   "cell_type": "markdown",
   "metadata": {},
   "source": [
    " "
   ]
  },
  {
   "cell_type": "markdown",
   "metadata": {},
   "source": [
    "### Methodology\n",
    "<a id = 'methodology'></a>"
   ]
  },
  {
   "cell_type": "markdown",
   "metadata": {},
   "source": [
    " "
   ]
  },
  {
   "cell_type": "markdown",
   "metadata": {},
   "source": [
    "This project aims to assess the data provided, capturing some insights present in this dataset.\n",
    "\n",
    "The dataset provided will be analyzed in a way we can get some trends out of it, showing how powerful characters may impact the final movie revenue and/or how movie's genres can impact its revenue. "
   ]
  },
  {
   "cell_type": "markdown",
   "metadata": {},
   "source": [
    " "
   ]
  },
  {
   "cell_type": "code",
   "execution_count": 1,
   "metadata": {},
   "outputs": [],
   "source": [
    "# import libraries needed for the analysis\n",
    "\n",
    "import numpy as np\n",
    "import pandas as pd\n",
    "import altair as alt\n"
   ]
  },
  {
   "cell_type": "code",
   "execution_count": 2,
   "metadata": {},
   "outputs": [],
   "source": [
    "# load dataset from CSV files\n",
    "\n",
    "character_df = pd.read_csv('disney-characters.csv', delimiter = ',')\n",
    "gross_df = pd.read_csv('disney_movies_total_gross.csv', delimiter = ',')\n"
   ]
  },
  {
   "cell_type": "code",
   "execution_count": 3,
   "metadata": {},
   "outputs": [
    {
     "data": {
      "text/html": [
       "<div>\n",
       "<style scoped>\n",
       "    .dataframe tbody tr th:only-of-type {\n",
       "        vertical-align: middle;\n",
       "    }\n",
       "\n",
       "    .dataframe tbody tr th {\n",
       "        vertical-align: top;\n",
       "    }\n",
       "\n",
       "    .dataframe thead th {\n",
       "        text-align: right;\n",
       "    }\n",
       "</style>\n",
       "<table border=\"1\" class=\"dataframe\">\n",
       "  <thead>\n",
       "    <tr style=\"text-align: right;\">\n",
       "      <th></th>\n",
       "      <th>movie_title</th>\n",
       "      <th>release_date</th>\n",
       "      <th>hero</th>\n",
       "      <th>villian</th>\n",
       "      <th>song</th>\n",
       "    </tr>\n",
       "  </thead>\n",
       "  <tbody>\n",
       "    <tr>\n",
       "      <th>0</th>\n",
       "      <td>\\nSnow White and the Seven Dwarfs</td>\n",
       "      <td>December 21, 1937</td>\n",
       "      <td>Snow White</td>\n",
       "      <td>Evil Queen</td>\n",
       "      <td>Some Day My Prince Will Come</td>\n",
       "    </tr>\n",
       "    <tr>\n",
       "      <th>1</th>\n",
       "      <td>\\nPinocchio</td>\n",
       "      <td>February 7, 1940</td>\n",
       "      <td>Pinocchio</td>\n",
       "      <td>Stromboli</td>\n",
       "      <td>When You Wish upon a Star</td>\n",
       "    </tr>\n",
       "    <tr>\n",
       "      <th>2</th>\n",
       "      <td>\\nFantasia</td>\n",
       "      <td>November 13, 1940</td>\n",
       "      <td>NaN</td>\n",
       "      <td>Chernabog</td>\n",
       "      <td>NaN</td>\n",
       "    </tr>\n",
       "    <tr>\n",
       "      <th>3</th>\n",
       "      <td>Dumbo</td>\n",
       "      <td>October 23, 1941</td>\n",
       "      <td>Dumbo</td>\n",
       "      <td>Ringmaster</td>\n",
       "      <td>Baby Mine</td>\n",
       "    </tr>\n",
       "    <tr>\n",
       "      <th>4</th>\n",
       "      <td>\\nBambi</td>\n",
       "      <td>August 13, 1942</td>\n",
       "      <td>Bambi</td>\n",
       "      <td>Hunter</td>\n",
       "      <td>Love Is a Song</td>\n",
       "    </tr>\n",
       "  </tbody>\n",
       "</table>\n",
       "</div>"
      ],
      "text/plain": [
       "                         movie_title       release_date        hero  \\\n",
       "0  \\nSnow White and the Seven Dwarfs  December 21, 1937  Snow White   \n",
       "1                        \\nPinocchio   February 7, 1940   Pinocchio   \n",
       "2                         \\nFantasia  November 13, 1940         NaN   \n",
       "3                              Dumbo   October 23, 1941       Dumbo   \n",
       "4                            \\nBambi    August 13, 1942       Bambi   \n",
       "\n",
       "      villian                          song  \n",
       "0  Evil Queen  Some Day My Prince Will Come  \n",
       "1   Stromboli     When You Wish upon a Star  \n",
       "2   Chernabog                           NaN  \n",
       "3  Ringmaster                     Baby Mine  \n",
       "4      Hunter                Love Is a Song  "
      ]
     },
     "execution_count": 3,
     "metadata": {},
     "output_type": "execute_result"
    }
   ],
   "source": [
    "# check the data stored in the character dataframe\n",
    "character_df.head()\n"
   ]
  },
  {
   "cell_type": "code",
   "execution_count": 4,
   "metadata": {},
   "outputs": [
    {
     "name": "stdout",
     "output_type": "stream",
     "text": [
      "<class 'pandas.core.frame.DataFrame'>\n",
      "RangeIndex: 56 entries, 0 to 55\n",
      "Data columns (total 5 columns):\n",
      " #   Column        Non-Null Count  Dtype \n",
      "---  ------        --------------  ----- \n",
      " 0   movie_title   56 non-null     object\n",
      " 1   release_date  56 non-null     object\n",
      " 2   hero          52 non-null     object\n",
      " 3   villian       46 non-null     object\n",
      " 4   song          47 non-null     object\n",
      "dtypes: object(5)\n",
      "memory usage: 2.3+ KB\n"
     ]
    }
   ],
   "source": [
    "# check the data stored in the dataframe\n",
    "# check data types and missing values\n",
    "character_df.info()\n"
   ]
  },
  {
   "cell_type": "markdown",
   "metadata": {},
   "source": [
    " "
   ]
  },
  {
   "cell_type": "markdown",
   "metadata": {},
   "source": [
    "The dataframe above (characters_df) has 56 rows and 5 columns.\n",
    "\n",
    "The character_df presents a *movie_title*, a *release_date*, a *hero*, a *villain* and a *song* columns. All columns present an object data type.\n",
    "\n",
    "The dataframe also presents some null values that will be addressed later on."
   ]
  },
  {
   "cell_type": "markdown",
   "metadata": {},
   "source": [
    " "
   ]
  },
  {
   "cell_type": "code",
   "execution_count": 5,
   "metadata": {},
   "outputs": [
    {
     "data": {
      "text/html": [
       "<div>\n",
       "<style scoped>\n",
       "    .dataframe tbody tr th:only-of-type {\n",
       "        vertical-align: middle;\n",
       "    }\n",
       "\n",
       "    .dataframe tbody tr th {\n",
       "        vertical-align: top;\n",
       "    }\n",
       "\n",
       "    .dataframe thead th {\n",
       "        text-align: right;\n",
       "    }\n",
       "</style>\n",
       "<table border=\"1\" class=\"dataframe\">\n",
       "  <thead>\n",
       "    <tr style=\"text-align: right;\">\n",
       "      <th></th>\n",
       "      <th>movie_title</th>\n",
       "      <th>release_date</th>\n",
       "      <th>genre</th>\n",
       "      <th>MPAA_rating</th>\n",
       "      <th>total_gross</th>\n",
       "      <th>inflation_adjusted_gross</th>\n",
       "    </tr>\n",
       "  </thead>\n",
       "  <tbody>\n",
       "    <tr>\n",
       "      <th>0</th>\n",
       "      <td>Snow White and the Seven Dwarfs</td>\n",
       "      <td>Dec 21, 1937</td>\n",
       "      <td>Musical</td>\n",
       "      <td>G</td>\n",
       "      <td>$184,925,485</td>\n",
       "      <td>$5,228,953,251</td>\n",
       "    </tr>\n",
       "    <tr>\n",
       "      <th>1</th>\n",
       "      <td>Pinocchio</td>\n",
       "      <td>Feb 9, 1940</td>\n",
       "      <td>Adventure</td>\n",
       "      <td>G</td>\n",
       "      <td>$84,300,000</td>\n",
       "      <td>$2,188,229,052</td>\n",
       "    </tr>\n",
       "    <tr>\n",
       "      <th>2</th>\n",
       "      <td>Fantasia</td>\n",
       "      <td>Nov 13, 1940</td>\n",
       "      <td>Musical</td>\n",
       "      <td>G</td>\n",
       "      <td>$83,320,000</td>\n",
       "      <td>$2,187,090,808</td>\n",
       "    </tr>\n",
       "    <tr>\n",
       "      <th>3</th>\n",
       "      <td>Song of the South</td>\n",
       "      <td>Nov 12, 1946</td>\n",
       "      <td>Adventure</td>\n",
       "      <td>G</td>\n",
       "      <td>$65,000,000</td>\n",
       "      <td>$1,078,510,579</td>\n",
       "    </tr>\n",
       "    <tr>\n",
       "      <th>4</th>\n",
       "      <td>Cinderella</td>\n",
       "      <td>Feb 15, 1950</td>\n",
       "      <td>Drama</td>\n",
       "      <td>G</td>\n",
       "      <td>$85,000,000</td>\n",
       "      <td>$920,608,730</td>\n",
       "    </tr>\n",
       "  </tbody>\n",
       "</table>\n",
       "</div>"
      ],
      "text/plain": [
       "                       movie_title  release_date      genre MPAA_rating  \\\n",
       "0  Snow White and the Seven Dwarfs  Dec 21, 1937    Musical           G   \n",
       "1                        Pinocchio   Feb 9, 1940  Adventure           G   \n",
       "2                         Fantasia  Nov 13, 1940    Musical           G   \n",
       "3                Song of the South  Nov 12, 1946  Adventure           G   \n",
       "4                       Cinderella  Feb 15, 1950      Drama           G   \n",
       "\n",
       "    total_gross inflation_adjusted_gross  \n",
       "0  $184,925,485           $5,228,953,251  \n",
       "1   $84,300,000           $2,188,229,052  \n",
       "2   $83,320,000           $2,187,090,808  \n",
       "3   $65,000,000           $1,078,510,579  \n",
       "4   $85,000,000             $920,608,730  "
      ]
     },
     "execution_count": 5,
     "metadata": {},
     "output_type": "execute_result"
    }
   ],
   "source": [
    "# check the data stored in the gross_df dataframe\n",
    "gross_df.head()\n"
   ]
  },
  {
   "cell_type": "code",
   "execution_count": 6,
   "metadata": {},
   "outputs": [
    {
     "name": "stdout",
     "output_type": "stream",
     "text": [
      "<class 'pandas.core.frame.DataFrame'>\n",
      "RangeIndex: 579 entries, 0 to 578\n",
      "Data columns (total 6 columns):\n",
      " #   Column                    Non-Null Count  Dtype \n",
      "---  ------                    --------------  ----- \n",
      " 0   movie_title               579 non-null    object\n",
      " 1   release_date              579 non-null    object\n",
      " 2   genre                     562 non-null    object\n",
      " 3   MPAA_rating               523 non-null    object\n",
      " 4   total_gross               579 non-null    object\n",
      " 5   inflation_adjusted_gross  579 non-null    object\n",
      "dtypes: object(6)\n",
      "memory usage: 27.3+ KB\n"
     ]
    }
   ],
   "source": [
    "# check the data stored in the dataframe\n",
    "# check data types and missing values\n",
    "gross_df.info()\n"
   ]
  },
  {
   "cell_type": "markdown",
   "metadata": {},
   "source": [
    " "
   ]
  },
  {
   "cell_type": "markdown",
   "metadata": {},
   "source": [
    "The dataframe above (gross_df) has 579 rows and 6 columns.\n",
    "\n",
    "The gross_df presents a *movie_title*, a *release_date*, a *genre*, a *MPAA_rating*, a *total_gross* and an *inflation_adjusted_gross*. All columns present an object data type.\n",
    "\n",
    "The dataframe also presents some null values that will be addressed later on."
   ]
  },
  {
   "cell_type": "markdown",
   "metadata": {},
   "source": [
    " "
   ]
  },
  {
   "cell_type": "markdown",
   "metadata": {},
   "source": [
    "As said above, both dataframes contain only object data types observations, which may represent a problem in the future when assessing the data and should be treated accordingly. \n",
    "\n",
    "That is the next step I will take."
   ]
  },
  {
   "cell_type": "markdown",
   "metadata": {},
   "source": [
    " "
   ]
  },
  {
   "cell_type": "code",
   "execution_count": 7,
   "metadata": {},
   "outputs": [],
   "source": [
    "# change data type of the release_date for both dataframes\n",
    "\n",
    "character_df['release_date'] = pd.to_datetime(character_df['release_date'])\n",
    "gross_df['release_date'] = pd.to_datetime(gross_df['release_date'])\n"
   ]
  },
  {
   "cell_type": "code",
   "execution_count": 8,
   "metadata": {},
   "outputs": [
    {
     "name": "stdout",
     "output_type": "stream",
     "text": [
      "<class 'pandas.core.frame.DataFrame'>\n",
      "RangeIndex: 56 entries, 0 to 55\n",
      "Data columns (total 5 columns):\n",
      " #   Column        Non-Null Count  Dtype         \n",
      "---  ------        --------------  -----         \n",
      " 0   movie_title   56 non-null     object        \n",
      " 1   release_date  56 non-null     datetime64[ns]\n",
      " 2   hero          52 non-null     object        \n",
      " 3   villian       46 non-null     object        \n",
      " 4   song          47 non-null     object        \n",
      "dtypes: datetime64[ns](1), object(4)\n",
      "memory usage: 2.3+ KB\n",
      "None\n",
      "<class 'pandas.core.frame.DataFrame'>\n",
      "RangeIndex: 579 entries, 0 to 578\n",
      "Data columns (total 6 columns):\n",
      " #   Column                    Non-Null Count  Dtype         \n",
      "---  ------                    --------------  -----         \n",
      " 0   movie_title               579 non-null    object        \n",
      " 1   release_date              579 non-null    datetime64[ns]\n",
      " 2   genre                     562 non-null    object        \n",
      " 3   MPAA_rating               523 non-null    object        \n",
      " 4   total_gross               579 non-null    object        \n",
      " 5   inflation_adjusted_gross  579 non-null    object        \n",
      "dtypes: datetime64[ns](1), object(5)\n",
      "memory usage: 27.3+ KB\n",
      "None\n"
     ]
    }
   ],
   "source": [
    "# check if the data types have changed\n",
    "\n",
    "print(character_df.info())\n",
    "print(gross_df.info())"
   ]
  },
  {
   "cell_type": "markdown",
   "metadata": {},
   "source": [
    " "
   ]
  },
  {
   "cell_type": "markdown",
   "metadata": {},
   "source": [
    "The **character_df** seems to have the correct data type for its columns now that the *release_date* had been changed; however, I need to eliminate the extra character (\\n) from *movie_title* column. On the other hand, the **gross_df** is still presenting  data type *object* where it should have floats for example. It also should be converted to an appropriate data type. "
   ]
  },
  {
   "cell_type": "markdown",
   "metadata": {},
   "source": [
    " "
   ]
  },
  {
   "cell_type": "code",
   "execution_count": 9,
   "metadata": {},
   "outputs": [
    {
     "data": {
      "text/html": [
       "<div>\n",
       "<style scoped>\n",
       "    .dataframe tbody tr th:only-of-type {\n",
       "        vertical-align: middle;\n",
       "    }\n",
       "\n",
       "    .dataframe tbody tr th {\n",
       "        vertical-align: top;\n",
       "    }\n",
       "\n",
       "    .dataframe thead th {\n",
       "        text-align: right;\n",
       "    }\n",
       "</style>\n",
       "<table border=\"1\" class=\"dataframe\">\n",
       "  <thead>\n",
       "    <tr style=\"text-align: right;\">\n",
       "      <th></th>\n",
       "      <th>movie_title</th>\n",
       "      <th>release_date</th>\n",
       "      <th>hero</th>\n",
       "      <th>villian</th>\n",
       "      <th>song</th>\n",
       "    </tr>\n",
       "  </thead>\n",
       "  <tbody>\n",
       "    <tr>\n",
       "      <th>0</th>\n",
       "      <td>Snow White and the Seven Dwarfs</td>\n",
       "      <td>1937-12-21</td>\n",
       "      <td>Snow White</td>\n",
       "      <td>Evil Queen</td>\n",
       "      <td>Some Day My Prince Will Come</td>\n",
       "    </tr>\n",
       "    <tr>\n",
       "      <th>1</th>\n",
       "      <td>Pinocchio</td>\n",
       "      <td>1940-02-07</td>\n",
       "      <td>Pinocchio</td>\n",
       "      <td>Stromboli</td>\n",
       "      <td>When You Wish upon a Star</td>\n",
       "    </tr>\n",
       "    <tr>\n",
       "      <th>2</th>\n",
       "      <td>Fantasia</td>\n",
       "      <td>1940-11-13</td>\n",
       "      <td>NaN</td>\n",
       "      <td>Chernabog</td>\n",
       "      <td>NaN</td>\n",
       "    </tr>\n",
       "    <tr>\n",
       "      <th>3</th>\n",
       "      <td>Dumbo</td>\n",
       "      <td>1941-10-23</td>\n",
       "      <td>Dumbo</td>\n",
       "      <td>Ringmaster</td>\n",
       "      <td>Baby Mine</td>\n",
       "    </tr>\n",
       "    <tr>\n",
       "      <th>4</th>\n",
       "      <td>Bambi</td>\n",
       "      <td>1942-08-13</td>\n",
       "      <td>Bambi</td>\n",
       "      <td>Hunter</td>\n",
       "      <td>Love Is a Song</td>\n",
       "    </tr>\n",
       "  </tbody>\n",
       "</table>\n",
       "</div>"
      ],
      "text/plain": [
       "                       movie_title release_date        hero     villian  \\\n",
       "0  Snow White and the Seven Dwarfs   1937-12-21  Snow White  Evil Queen   \n",
       "1                        Pinocchio   1940-02-07   Pinocchio   Stromboli   \n",
       "2                         Fantasia   1940-11-13         NaN   Chernabog   \n",
       "3                            Dumbo   1941-10-23       Dumbo  Ringmaster   \n",
       "4                            Bambi   1942-08-13       Bambi      Hunter   \n",
       "\n",
       "                           song  \n",
       "0  Some Day My Prince Will Come  \n",
       "1     When You Wish upon a Star  \n",
       "2                           NaN  \n",
       "3                     Baby Mine  \n",
       "4                Love Is a Song  "
      ]
     },
     "execution_count": 9,
     "metadata": {},
     "output_type": "execute_result"
    }
   ],
   "source": [
    "# eliminate \"\\n\" from the movie_titles column on the character_df \n",
    "\n",
    "character_df['movie_title'] = character_df['movie_title'].str.replace('\\n', '', regex = True)\n",
    "character_df.head()"
   ]
  },
  {
   "cell_type": "code",
   "execution_count": 10,
   "metadata": {},
   "outputs": [],
   "source": [
    "def convert_type(dataframe):\n",
    "    '''\n",
    "    Given a dataframe, remove special characters and convert string to float\n",
    "    \n",
    "    Parameters\n",
    "    ----------\n",
    "    dataframe: pandas.core.frame.DataFrame\n",
    "        The dataframe to work with.\n",
    "        \n",
    "    Returns\n",
    "    -------\n",
    "    dataframe: pandas.core.frame.DataFrame\n",
    "        The new dataframe\n",
    "        \n",
    "    Examples\n",
    "    --------\n",
    "    >>> convert_type(gross_df)\n",
    "    \n",
    "        movie_title release_date genre    MPAA_rating  total_gross  inflation_adjusted_gross\n",
    "    1   Pinocchio   1940-02-09   Adventure G           84300000.0   2.188229e+09\n",
    "    '''\n",
    "    \n",
    "    \n",
    "    if isinstance (dataframe, pd.DataFrame) == False:\n",
    "        raise TypeError(\"This is not a Dataframe!\")\n",
    "    \n",
    "    # remove the $ sign\n",
    "    \n",
    "    dataframe['total_gross'] = dataframe['total_gross'].str.replace('[\\$]', '', regex = True)\n",
    "    dataframe['inflation_adjusted_gross'] = dataframe['inflation_adjusted_gross'].str.replace('[\\$]', '', regex = True)\n",
    "\n",
    "\n",
    "    # remove the comma\n",
    "\n",
    "    dataframe['total_gross'] = dataframe['total_gross'].str.replace(',', '', regex = True)\n",
    "    dataframe['inflation_adjusted_gross'] = dataframe['inflation_adjusted_gross'].str.replace(',', '', regex = True)\n",
    "\n",
    "\n",
    "    # convert total_gross and inflation_adjusted_gross from the gross_df to float\n",
    "\n",
    "    dataframe['total_gross'] = dataframe['total_gross'].astype('float')\n",
    "    dataframe['inflation_adjusted_gross'] = dataframe['inflation_adjusted_gross'].astype('float')\n",
    "    \n",
    "    \n",
    "    return dataframe\n"
   ]
  },
  {
   "cell_type": "code",
   "execution_count": 11,
   "metadata": {},
   "outputs": [
    {
     "name": "stdout",
     "output_type": "stream",
     "text": [
      "<class 'pandas.core.frame.DataFrame'>\n",
      "RangeIndex: 579 entries, 0 to 578\n",
      "Data columns (total 6 columns):\n",
      " #   Column                    Non-Null Count  Dtype         \n",
      "---  ------                    --------------  -----         \n",
      " 0   movie_title               579 non-null    object        \n",
      " 1   release_date              579 non-null    datetime64[ns]\n",
      " 2   genre                     562 non-null    object        \n",
      " 3   MPAA_rating               523 non-null    object        \n",
      " 4   total_gross               579 non-null    float64       \n",
      " 5   inflation_adjusted_gross  579 non-null    float64       \n",
      "dtypes: datetime64[ns](1), float64(2), object(3)\n",
      "memory usage: 27.3+ KB\n"
     ]
    }
   ],
   "source": [
    "# use function to convert data type of gross_df\n",
    "\n",
    "convert_type(gross_df)\n",
    "gross_df.info()"
   ]
  },
  {
   "cell_type": "code",
   "execution_count": 12,
   "metadata": {},
   "outputs": [
    {
     "data": {
      "text/html": [
       "<div>\n",
       "<style scoped>\n",
       "    .dataframe tbody tr th:only-of-type {\n",
       "        vertical-align: middle;\n",
       "    }\n",
       "\n",
       "    .dataframe tbody tr th {\n",
       "        vertical-align: top;\n",
       "    }\n",
       "\n",
       "    .dataframe thead th {\n",
       "        text-align: right;\n",
       "    }\n",
       "</style>\n",
       "<table border=\"1\" class=\"dataframe\">\n",
       "  <thead>\n",
       "    <tr style=\"text-align: right;\">\n",
       "      <th></th>\n",
       "      <th>movie_title</th>\n",
       "      <th>release_date_x</th>\n",
       "      <th>hero</th>\n",
       "      <th>villian</th>\n",
       "      <th>song</th>\n",
       "      <th>release_date_y</th>\n",
       "      <th>genre</th>\n",
       "      <th>MPAA_rating</th>\n",
       "      <th>total_gross</th>\n",
       "      <th>inflation_adjusted_gross</th>\n",
       "    </tr>\n",
       "  </thead>\n",
       "  <tbody>\n",
       "    <tr>\n",
       "      <th>0</th>\n",
       "      <td>Snow White and the Seven Dwarfs</td>\n",
       "      <td>1937-12-21</td>\n",
       "      <td>Snow White</td>\n",
       "      <td>Evil Queen</td>\n",
       "      <td>Some Day My Prince Will Come</td>\n",
       "      <td>1937-12-21</td>\n",
       "      <td>Musical</td>\n",
       "      <td>G</td>\n",
       "      <td>184925485.0</td>\n",
       "      <td>5.228953e+09</td>\n",
       "    </tr>\n",
       "    <tr>\n",
       "      <th>1</th>\n",
       "      <td>Pinocchio</td>\n",
       "      <td>1940-02-07</td>\n",
       "      <td>Pinocchio</td>\n",
       "      <td>Stromboli</td>\n",
       "      <td>When You Wish upon a Star</td>\n",
       "      <td>1940-02-09</td>\n",
       "      <td>Adventure</td>\n",
       "      <td>G</td>\n",
       "      <td>84300000.0</td>\n",
       "      <td>2.188229e+09</td>\n",
       "    </tr>\n",
       "    <tr>\n",
       "      <th>2</th>\n",
       "      <td>Fantasia</td>\n",
       "      <td>1940-11-13</td>\n",
       "      <td>NaN</td>\n",
       "      <td>Chernabog</td>\n",
       "      <td>NaN</td>\n",
       "      <td>1940-11-13</td>\n",
       "      <td>Musical</td>\n",
       "      <td>G</td>\n",
       "      <td>83320000.0</td>\n",
       "      <td>2.187091e+09</td>\n",
       "    </tr>\n",
       "    <tr>\n",
       "      <th>3</th>\n",
       "      <td>Cinderella</td>\n",
       "      <td>1950-02-15</td>\n",
       "      <td>Cinderella</td>\n",
       "      <td>Lady Tremaine</td>\n",
       "      <td>Bibbidi-Bobbidi-Boo</td>\n",
       "      <td>1950-02-15</td>\n",
       "      <td>Drama</td>\n",
       "      <td>G</td>\n",
       "      <td>85000000.0</td>\n",
       "      <td>9.206087e+08</td>\n",
       "    </tr>\n",
       "    <tr>\n",
       "      <th>4</th>\n",
       "      <td>Cinderella</td>\n",
       "      <td>1950-02-15</td>\n",
       "      <td>Cinderella</td>\n",
       "      <td>Lady Tremaine</td>\n",
       "      <td>Bibbidi-Bobbidi-Boo</td>\n",
       "      <td>2015-03-13</td>\n",
       "      <td>Drama</td>\n",
       "      <td>PG</td>\n",
       "      <td>201151353.0</td>\n",
       "      <td>2.011514e+08</td>\n",
       "    </tr>\n",
       "  </tbody>\n",
       "</table>\n",
       "</div>"
      ],
      "text/plain": [
       "                       movie_title release_date_x        hero        villian  \\\n",
       "0  Snow White and the Seven Dwarfs     1937-12-21  Snow White     Evil Queen   \n",
       "1                        Pinocchio     1940-02-07   Pinocchio      Stromboli   \n",
       "2                         Fantasia     1940-11-13         NaN      Chernabog   \n",
       "3                       Cinderella     1950-02-15  Cinderella  Lady Tremaine   \n",
       "4                       Cinderella     1950-02-15  Cinderella  Lady Tremaine   \n",
       "\n",
       "                           song release_date_y      genre MPAA_rating  \\\n",
       "0  Some Day My Prince Will Come     1937-12-21    Musical           G   \n",
       "1     When You Wish upon a Star     1940-02-09  Adventure           G   \n",
       "2                           NaN     1940-11-13    Musical           G   \n",
       "3           Bibbidi-Bobbidi-Boo     1950-02-15      Drama           G   \n",
       "4           Bibbidi-Bobbidi-Boo     2015-03-13      Drama          PG   \n",
       "\n",
       "   total_gross  inflation_adjusted_gross  \n",
       "0  184925485.0              5.228953e+09  \n",
       "1   84300000.0              2.188229e+09  \n",
       "2   83320000.0              2.187091e+09  \n",
       "3   85000000.0              9.206087e+08  \n",
       "4  201151353.0              2.011514e+08  "
      ]
     },
     "execution_count": 12,
     "metadata": {},
     "output_type": "execute_result"
    }
   ],
   "source": [
    "#  merge the 2 dataframes on movie_title\n",
    "\n",
    "combined_df = pd.merge(character_df, gross_df, on = ['movie_title'], how = 'inner')\n",
    "\n",
    "combined_df.head()"
   ]
  },
  {
   "cell_type": "code",
   "execution_count": 13,
   "metadata": {},
   "outputs": [],
   "source": [
    "# rename the release_date column and drop the duplicated one\n",
    "\n",
    "combined_df = combined_df.drop(columns = ['release_date_x'])\n",
    "combined_df = combined_df.rename(columns = {'release_date_y': 'release_date'})\n"
   ]
  },
  {
   "cell_type": "code",
   "execution_count": 14,
   "metadata": {},
   "outputs": [
    {
     "data": {
      "text/plain": [
       "0"
      ]
     },
     "execution_count": 14,
     "metadata": {},
     "output_type": "execute_result"
    }
   ],
   "source": [
    "# check for duplicate rows\n",
    "\n",
    "combined_df.duplicated().sum()"
   ]
  },
  {
   "cell_type": "code",
   "execution_count": 15,
   "metadata": {},
   "outputs": [
    {
     "data": {
      "text/plain": [
       "movie_title                 0\n",
       "hero                        1\n",
       "villian                     5\n",
       "song                        5\n",
       "release_date                0\n",
       "genre                       1\n",
       "MPAA_rating                 7\n",
       "total_gross                 0\n",
       "inflation_adjusted_gross    0\n",
       "dtype: int64"
      ]
     },
     "execution_count": 15,
     "metadata": {},
     "output_type": "execute_result"
    }
   ],
   "source": [
    "# check the null values in the dataframe\n",
    "\n",
    "count_nan = combined_df.isnull().sum()\n",
    "count_nan"
   ]
  },
  {
   "cell_type": "code",
   "execution_count": 16,
   "metadata": {},
   "outputs": [
    {
     "name": "stdout",
     "output_type": "stream",
     "text": [
      "<class 'pandas.core.frame.DataFrame'>\n",
      "RangeIndex: 32 entries, 0 to 31\n",
      "Data columns (total 9 columns):\n",
      " #   Column                    Non-Null Count  Dtype         \n",
      "---  ------                    --------------  -----         \n",
      " 0   movie_title               32 non-null     object        \n",
      " 1   hero                      32 non-null     object        \n",
      " 2   villian                   32 non-null     object        \n",
      " 3   song                      32 non-null     object        \n",
      " 4   release_date              32 non-null     datetime64[ns]\n",
      " 5   genre                     32 non-null     object        \n",
      " 6   MPAA_rating               32 non-null     object        \n",
      " 7   total_gross               32 non-null     float64       \n",
      " 8   inflation_adjusted_gross  32 non-null     float64       \n",
      "dtypes: datetime64[ns](1), float64(2), object(6)\n",
      "memory usage: 2.4+ KB\n"
     ]
    }
   ],
   "source": [
    "# drop null values\n",
    "\n",
    "combined_df = combined_df.dropna(axis = 0).reset_index(drop = True)\n",
    "combined_df.info()"
   ]
  },
  {
   "cell_type": "markdown",
   "metadata": {},
   "source": [
    " "
   ]
  },
  {
   "cell_type": "markdown",
   "metadata": {},
   "source": [
    "Even though I can identify some null values in the *combined_df*, those will not affect my analysis at this point. So, I decided to keep those rows for now. I will reassess that later on."
   ]
  },
  {
   "cell_type": "markdown",
   "metadata": {},
   "source": [
    " "
   ]
  },
  {
   "cell_type": "code",
   "execution_count": 17,
   "metadata": {},
   "outputs": [
    {
     "data": {
      "text/html": [
       "<div>\n",
       "<style scoped>\n",
       "    .dataframe tbody tr th:only-of-type {\n",
       "        vertical-align: middle;\n",
       "    }\n",
       "\n",
       "    .dataframe tbody tr th {\n",
       "        vertical-align: top;\n",
       "    }\n",
       "\n",
       "    .dataframe thead th {\n",
       "        text-align: right;\n",
       "    }\n",
       "</style>\n",
       "<table border=\"1\" class=\"dataframe\">\n",
       "  <thead>\n",
       "    <tr style=\"text-align: right;\">\n",
       "      <th></th>\n",
       "      <th>movie_title</th>\n",
       "      <th>hero</th>\n",
       "      <th>villian</th>\n",
       "      <th>song</th>\n",
       "      <th>release_date</th>\n",
       "      <th>genre</th>\n",
       "      <th>MPAA_rating</th>\n",
       "      <th>total_gross</th>\n",
       "      <th>inflation_adjusted_gross</th>\n",
       "    </tr>\n",
       "  </thead>\n",
       "  <tbody>\n",
       "    <tr>\n",
       "      <th>0</th>\n",
       "      <td>Snow White and the Seven Dwarfs</td>\n",
       "      <td>Snow White</td>\n",
       "      <td>Evil Queen</td>\n",
       "      <td>Some Day My Prince Will Come</td>\n",
       "      <td>1937-12-21</td>\n",
       "      <td>Musical</td>\n",
       "      <td>G</td>\n",
       "      <td>184925485.0</td>\n",
       "      <td>5.228953e+09</td>\n",
       "    </tr>\n",
       "    <tr>\n",
       "      <th>1</th>\n",
       "      <td>Pinocchio</td>\n",
       "      <td>Pinocchio</td>\n",
       "      <td>Stromboli</td>\n",
       "      <td>When You Wish upon a Star</td>\n",
       "      <td>1940-02-09</td>\n",
       "      <td>Adventure</td>\n",
       "      <td>G</td>\n",
       "      <td>84300000.0</td>\n",
       "      <td>2.188229e+09</td>\n",
       "    </tr>\n",
       "    <tr>\n",
       "      <th>2</th>\n",
       "      <td>Lady and the Tramp</td>\n",
       "      <td>Lady and Tramp</td>\n",
       "      <td>Si and Am</td>\n",
       "      <td>Bella Notte</td>\n",
       "      <td>1955-06-22</td>\n",
       "      <td>Drama</td>\n",
       "      <td>G</td>\n",
       "      <td>93600000.0</td>\n",
       "      <td>1.236036e+09</td>\n",
       "    </tr>\n",
       "    <tr>\n",
       "      <th>3</th>\n",
       "      <td>Cinderella</td>\n",
       "      <td>Cinderella</td>\n",
       "      <td>Lady Tremaine</td>\n",
       "      <td>Bibbidi-Bobbidi-Boo</td>\n",
       "      <td>1950-02-15</td>\n",
       "      <td>Drama</td>\n",
       "      <td>G</td>\n",
       "      <td>85000000.0</td>\n",
       "      <td>9.206087e+08</td>\n",
       "    </tr>\n",
       "    <tr>\n",
       "      <th>4</th>\n",
       "      <td>The Jungle Book</td>\n",
       "      <td>Mowgli</td>\n",
       "      <td>Kaa and Shere Khan</td>\n",
       "      <td>The Bare Necessities\\n</td>\n",
       "      <td>1967-10-18</td>\n",
       "      <td>Musical</td>\n",
       "      <td>Not Rated</td>\n",
       "      <td>141843000.0</td>\n",
       "      <td>7.896123e+08</td>\n",
       "    </tr>\n",
       "  </tbody>\n",
       "</table>\n",
       "</div>"
      ],
      "text/plain": [
       "                       movie_title            hero             villian  \\\n",
       "0  Snow White and the Seven Dwarfs      Snow White          Evil Queen   \n",
       "1                        Pinocchio       Pinocchio           Stromboli   \n",
       "2               Lady and the Tramp  Lady and Tramp           Si and Am   \n",
       "3                       Cinderella      Cinderella       Lady Tremaine   \n",
       "4                  The Jungle Book          Mowgli  Kaa and Shere Khan   \n",
       "\n",
       "                           song release_date      genre MPAA_rating  \\\n",
       "0  Some Day My Prince Will Come   1937-12-21    Musical           G   \n",
       "1     When You Wish upon a Star   1940-02-09  Adventure           G   \n",
       "2                   Bella Notte   1955-06-22      Drama           G   \n",
       "3           Bibbidi-Bobbidi-Boo   1950-02-15      Drama           G   \n",
       "4        The Bare Necessities\\n   1967-10-18    Musical   Not Rated   \n",
       "\n",
       "   total_gross  inflation_adjusted_gross  \n",
       "0  184925485.0              5.228953e+09  \n",
       "1   84300000.0              2.188229e+09  \n",
       "2   93600000.0              1.236036e+09  \n",
       "3   85000000.0              9.206087e+08  \n",
       "4  141843000.0              7.896123e+08  "
      ]
     },
     "execution_count": 17,
     "metadata": {},
     "output_type": "execute_result"
    }
   ],
   "source": [
    "# get the top 15 children's movies by inflation_adjusted_gross \n",
    "\n",
    "combined_df_top = combined_df.nlargest(15, 'inflation_adjusted_gross').reset_index(drop = True)\n",
    "combined_df_top.head()"
   ]
  },
  {
   "cell_type": "code",
   "execution_count": 18,
   "metadata": {},
   "outputs": [
    {
     "data": {
      "text/html": [
       "\n",
       "<div id=\"altair-viz-c1926b2e07fd4fb0b5468e9bd04bdba4\"></div>\n",
       "<script type=\"text/javascript\">\n",
       "  var VEGA_DEBUG = (typeof VEGA_DEBUG == \"undefined\") ? {} : VEGA_DEBUG;\n",
       "  (function(spec, embedOpt){\n",
       "    let outputDiv = document.currentScript.previousElementSibling;\n",
       "    if (outputDiv.id !== \"altair-viz-c1926b2e07fd4fb0b5468e9bd04bdba4\") {\n",
       "      outputDiv = document.getElementById(\"altair-viz-c1926b2e07fd4fb0b5468e9bd04bdba4\");\n",
       "    }\n",
       "    const paths = {\n",
       "      \"vega\": \"https://cdn.jsdelivr.net/npm//vega@5?noext\",\n",
       "      \"vega-lib\": \"https://cdn.jsdelivr.net/npm//vega-lib?noext\",\n",
       "      \"vega-lite\": \"https://cdn.jsdelivr.net/npm//vega-lite@4.17.0?noext\",\n",
       "      \"vega-embed\": \"https://cdn.jsdelivr.net/npm//vega-embed@6?noext\",\n",
       "    };\n",
       "\n",
       "    function maybeLoadScript(lib, version) {\n",
       "      var key = `${lib.replace(\"-\", \"\")}_version`;\n",
       "      return (VEGA_DEBUG[key] == version) ?\n",
       "        Promise.resolve(paths[lib]) :\n",
       "        new Promise(function(resolve, reject) {\n",
       "          var s = document.createElement('script');\n",
       "          document.getElementsByTagName(\"head\")[0].appendChild(s);\n",
       "          s.async = true;\n",
       "          s.onload = () => {\n",
       "            VEGA_DEBUG[key] = version;\n",
       "            return resolve(paths[lib]);\n",
       "          };\n",
       "          s.onerror = () => reject(`Error loading script: ${paths[lib]}`);\n",
       "          s.src = paths[lib];\n",
       "        });\n",
       "    }\n",
       "\n",
       "    function showError(err) {\n",
       "      outputDiv.innerHTML = `<div class=\"error\" style=\"color:red;\">${err}</div>`;\n",
       "      throw err;\n",
       "    }\n",
       "\n",
       "    function displayChart(vegaEmbed) {\n",
       "      vegaEmbed(outputDiv, spec, embedOpt)\n",
       "        .catch(err => showError(`Javascript Error: ${err.message}<br>This usually means there's a typo in your chart specification. See the javascript console for the full traceback.`));\n",
       "    }\n",
       "\n",
       "    if(typeof define === \"function\" && define.amd) {\n",
       "      requirejs.config({paths});\n",
       "      require([\"vega-embed\"], displayChart, err => showError(`Error loading script: ${err.message}`));\n",
       "    } else {\n",
       "      maybeLoadScript(\"vega\", \"5\")\n",
       "        .then(() => maybeLoadScript(\"vega-lite\", \"4.17.0\"))\n",
       "        .then(() => maybeLoadScript(\"vega-embed\", \"6\"))\n",
       "        .catch(showError)\n",
       "        .then(() => displayChart(vegaEmbed));\n",
       "    }\n",
       "  })({\"config\": {\"view\": {\"continuousWidth\": 400, \"continuousHeight\": 300}}, \"data\": {\"name\": \"data-d306604290e6c1fc74d86d340f288e4f\"}, \"mark\": \"bar\", \"encoding\": {\"x\": {\"field\": \"hero\", \"sort\": \"-y\", \"title\": \"Disney Character\", \"type\": \"nominal\"}, \"y\": {\"field\": \"inflation_adjusted_gross\", \"title\": \"Inflation Adjusted Gross\", \"type\": \"quantitative\"}}, \"height\": 300, \"title\": \"Top 15 Disney Movies by Character (Hero)\", \"width\": 500, \"$schema\": \"https://vega.github.io/schema/vega-lite/v4.17.0.json\", \"datasets\": {\"data-d306604290e6c1fc74d86d340f288e4f\": [{\"movie_title\": \"Snow White and the Seven Dwarfs\", \"hero\": \"Snow White\", \"villian\": \"Evil Queen\", \"song\": \"Some Day My Prince Will Come\", \"release_date\": \"1937-12-21T00:00:00\", \"genre\": \"Musical\", \"MPAA_rating\": \"G\", \"total_gross\": 184925485.0, \"inflation_adjusted_gross\": 5228953251.0}, {\"movie_title\": \"Pinocchio\", \"hero\": \"Pinocchio\", \"villian\": \"Stromboli\", \"song\": \"When You Wish upon a Star\", \"release_date\": \"1940-02-09T00:00:00\", \"genre\": \"Adventure\", \"MPAA_rating\": \"G\", \"total_gross\": 84300000.0, \"inflation_adjusted_gross\": 2188229052.0}, {\"movie_title\": \"Lady and the Tramp\", \"hero\": \"Lady and Tramp\", \"villian\": \"Si and Am\", \"song\": \"Bella Notte\", \"release_date\": \"1955-06-22T00:00:00\", \"genre\": \"Drama\", \"MPAA_rating\": \"G\", \"total_gross\": 93600000.0, \"inflation_adjusted_gross\": 1236035515.0}, {\"movie_title\": \"Cinderella\", \"hero\": \"Cinderella\", \"villian\": \"Lady Tremaine\", \"song\": \"Bibbidi-Bobbidi-Boo\", \"release_date\": \"1950-02-15T00:00:00\", \"genre\": \"Drama\", \"MPAA_rating\": \"G\", \"total_gross\": 85000000.0, \"inflation_adjusted_gross\": 920608730.0}, {\"movie_title\": \"The Jungle Book\", \"hero\": \"Mowgli\", \"villian\": \"Kaa and Shere Khan\", \"song\": \"The Bare Necessities\\n\", \"release_date\": \"1967-10-18T00:00:00\", \"genre\": \"Musical\", \"MPAA_rating\": \"Not Rated\", \"total_gross\": 141843000.0, \"inflation_adjusted_gross\": 789612346.0}, {\"movie_title\": \"The Lion King\", \"hero\": \"Simba\", \"villian\": \"Scar\", \"song\": \"Circle of Life\", \"release_date\": \"1994-06-15T00:00:00\", \"genre\": \"Adventure\", \"MPAA_rating\": \"G\", \"total_gross\": 422780140.0, \"inflation_adjusted_gross\": 761640898.0}, {\"movie_title\": \"Aladdin\", \"hero\": \"Aladdin\", \"villian\": \"Jafar\", \"song\": \"A Whole New World\", \"release_date\": \"1992-11-11T00:00:00\", \"genre\": \"Comedy\", \"MPAA_rating\": \"G\", \"total_gross\": 217350219.0, \"inflation_adjusted_gross\": 441969178.0}, {\"movie_title\": \"Frozen\", \"hero\": \"Elsa\", \"villian\": \"Prince Hans\", \"song\": \"Let It Go\\n\", \"release_date\": \"2013-11-22T00:00:00\", \"genre\": \"Adventure\", \"MPAA_rating\": \"PG\", \"total_gross\": 400738009.0, \"inflation_adjusted_gross\": 414997174.0}, {\"movie_title\": \"The Jungle Book\", \"hero\": \"Mowgli\", \"villian\": \"Kaa and Shere Khan\", \"song\": \"The Bare Necessities\\n\", \"release_date\": \"2016-04-15T00:00:00\", \"genre\": \"Adventure\", \"MPAA_rating\": \"PG\", \"total_gross\": 364001123.0, \"inflation_adjusted_gross\": 364001123.0}, {\"movie_title\": \"Beauty and the Beast\", \"hero\": \"Belle\", \"villian\": \"Gaston\", \"song\": \"Be Our Guest\", \"release_date\": \"1991-11-13T00:00:00\", \"genre\": \"Musical\", \"MPAA_rating\": \"G\", \"total_gross\": 218951625.0, \"inflation_adjusted_gross\": 363017667.0}, {\"movie_title\": \"Alice in Wonderland\", \"hero\": \"Alice\", \"villian\": \"Queen of Hearts\", \"song\": \"The Unbirthday Song\", \"release_date\": \"2010-03-05T00:00:00\", \"genre\": \"Adventure\", \"MPAA_rating\": \"PG\", \"total_gross\": 334191110.0, \"inflation_adjusted_gross\": 357063499.0}, {\"movie_title\": \"Tarzan\", \"hero\": \"Tarzan\", \"villian\": \"Clayton\", \"song\": \"You'll Be in My Heart\", \"release_date\": \"1999-06-16T00:00:00\", \"genre\": \"Adventure\", \"MPAA_rating\": \"G\", \"total_gross\": 171091819.0, \"inflation_adjusted_gross\": 283900254.0}, {\"movie_title\": \"Pocahontas\", \"hero\": \"Pocahontas\", \"villian\": \"Governor Ratcliffe\", \"song\": \"Colors of the Wind\", \"release_date\": \"1995-06-10T00:00:00\", \"genre\": \"Adventure\", \"MPAA_rating\": \"G\", \"total_gross\": 141579773.0, \"inflation_adjusted_gross\": 274370957.0}, {\"movie_title\": \"The Aristocats\", \"hero\": \"Thomas and Duchess\", \"villian\": \"Edgar Balthazar\", \"song\": \"Ev'rybody Wants to Be a Cat\", \"release_date\": \"1970-04-24T00:00:00\", \"genre\": \"Musical\", \"MPAA_rating\": \"G\", \"total_gross\": 55675257.0, \"inflation_adjusted_gross\": 255161499.0}, {\"movie_title\": \"Big Hero 6\", \"hero\": \"Hiro Hamada\", \"villian\": \"Professor Callaghan\", \"song\": \"Immortals\", \"release_date\": \"2014-11-07T00:00:00\", \"genre\": \"Adventure\", \"MPAA_rating\": \"PG\", \"total_gross\": 222527828.0, \"inflation_adjusted_gross\": 229249222.0}]}}, {\"mode\": \"vega-lite\"});\n",
       "</script>"
      ],
      "text/plain": [
       "alt.Chart(...)"
      ]
     },
     "execution_count": 18,
     "metadata": {},
     "output_type": "execute_result"
    }
   ],
   "source": [
    "# use altair to generate a chart\n",
    "\n",
    "top_15_plot = (\n",
    "    alt.Chart(combined_df_top, width = 500, height = 300).\n",
    "    mark_bar().\n",
    "    encode(\n",
    "        x = alt.X(\"hero:N\", title = \"Disney Character\", sort = '-y'),\n",
    "        y = alt.Y(\"inflation_adjusted_gross:Q\", title = \"Inflation Adjusted Gross\"),\n",
    "    ).properties (title = \"Top 15 Disney Movies by Character (Hero)\" )\n",
    ")\n",
    "\n",
    "top_15_plot"
   ]
  },
  {
   "cell_type": "markdown",
   "metadata": {},
   "source": [
    "From the above plot, we can identify that movies with Snow White, Pinocchio and Lady and Tramp represented the top 3 movies with the highest total gross revenue.\n",
    "\n",
    "Surprisingly, Simba, Aladdin, Elsa and Tarzan, for instance, did not make it to the top."
   ]
  },
  {
   "cell_type": "markdown",
   "metadata": {},
   "source": [
    " "
   ]
  },
  {
   "cell_type": "code",
   "execution_count": 19,
   "metadata": {},
   "outputs": [
    {
     "data": {
      "text/html": [
       "\n",
       "<div id=\"altair-viz-21397bb3724f483c8819526c10491c40\"></div>\n",
       "<script type=\"text/javascript\">\n",
       "  var VEGA_DEBUG = (typeof VEGA_DEBUG == \"undefined\") ? {} : VEGA_DEBUG;\n",
       "  (function(spec, embedOpt){\n",
       "    let outputDiv = document.currentScript.previousElementSibling;\n",
       "    if (outputDiv.id !== \"altair-viz-21397bb3724f483c8819526c10491c40\") {\n",
       "      outputDiv = document.getElementById(\"altair-viz-21397bb3724f483c8819526c10491c40\");\n",
       "    }\n",
       "    const paths = {\n",
       "      \"vega\": \"https://cdn.jsdelivr.net/npm//vega@5?noext\",\n",
       "      \"vega-lib\": \"https://cdn.jsdelivr.net/npm//vega-lib?noext\",\n",
       "      \"vega-lite\": \"https://cdn.jsdelivr.net/npm//vega-lite@4.17.0?noext\",\n",
       "      \"vega-embed\": \"https://cdn.jsdelivr.net/npm//vega-embed@6?noext\",\n",
       "    };\n",
       "\n",
       "    function maybeLoadScript(lib, version) {\n",
       "      var key = `${lib.replace(\"-\", \"\")}_version`;\n",
       "      return (VEGA_DEBUG[key] == version) ?\n",
       "        Promise.resolve(paths[lib]) :\n",
       "        new Promise(function(resolve, reject) {\n",
       "          var s = document.createElement('script');\n",
       "          document.getElementsByTagName(\"head\")[0].appendChild(s);\n",
       "          s.async = true;\n",
       "          s.onload = () => {\n",
       "            VEGA_DEBUG[key] = version;\n",
       "            return resolve(paths[lib]);\n",
       "          };\n",
       "          s.onerror = () => reject(`Error loading script: ${paths[lib]}`);\n",
       "          s.src = paths[lib];\n",
       "        });\n",
       "    }\n",
       "\n",
       "    function showError(err) {\n",
       "      outputDiv.innerHTML = `<div class=\"error\" style=\"color:red;\">${err}</div>`;\n",
       "      throw err;\n",
       "    }\n",
       "\n",
       "    function displayChart(vegaEmbed) {\n",
       "      vegaEmbed(outputDiv, spec, embedOpt)\n",
       "        .catch(err => showError(`Javascript Error: ${err.message}<br>This usually means there's a typo in your chart specification. See the javascript console for the full traceback.`));\n",
       "    }\n",
       "\n",
       "    if(typeof define === \"function\" && define.amd) {\n",
       "      requirejs.config({paths});\n",
       "      require([\"vega-embed\"], displayChart, err => showError(`Error loading script: ${err.message}`));\n",
       "    } else {\n",
       "      maybeLoadScript(\"vega\", \"5\")\n",
       "        .then(() => maybeLoadScript(\"vega-lite\", \"4.17.0\"))\n",
       "        .then(() => maybeLoadScript(\"vega-embed\", \"6\"))\n",
       "        .catch(showError)\n",
       "        .then(() => displayChart(vegaEmbed));\n",
       "    }\n",
       "  })({\"config\": {\"view\": {\"continuousWidth\": 400, \"continuousHeight\": 300}}, \"data\": {\"name\": \"data-d7955d4ce2bede034ca64935a6dfc401\"}, \"mark\": \"bar\", \"encoding\": {\"x\": {\"aggregate\": \"sum\", \"field\": \"inflation_adjusted_gross\", \"title\": \"Adjusted Gross\", \"type\": \"quantitative\"}, \"y\": {\"field\": \"genre\", \"sort\": \"-x\", \"title\": \"Movies Genre\", \"type\": \"nominal\"}}, \"height\": 300, \"title\": \"Adjusted Gross by Genre\", \"width\": 500, \"$schema\": \"https://vega.github.io/schema/vega-lite/v4.17.0.json\", \"datasets\": {\"data-d7955d4ce2bede034ca64935a6dfc401\": [{\"movie_title\": \"Snow White and the Seven Dwarfs\", \"hero\": \"Snow White\", \"villian\": \"Evil Queen\", \"song\": \"Some Day My Prince Will Come\", \"release_date\": \"1937-12-21T00:00:00\", \"genre\": \"Musical\", \"MPAA_rating\": \"G\", \"total_gross\": 184925485.0, \"inflation_adjusted_gross\": 5228953251.0}, {\"movie_title\": \"Pinocchio\", \"hero\": \"Pinocchio\", \"villian\": \"Stromboli\", \"song\": \"When You Wish upon a Star\", \"release_date\": \"1940-02-09T00:00:00\", \"genre\": \"Adventure\", \"MPAA_rating\": \"G\", \"total_gross\": 84300000.0, \"inflation_adjusted_gross\": 2188229052.0}, {\"movie_title\": \"Cinderella\", \"hero\": \"Cinderella\", \"villian\": \"Lady Tremaine\", \"song\": \"Bibbidi-Bobbidi-Boo\", \"release_date\": \"1950-02-15T00:00:00\", \"genre\": \"Drama\", \"MPAA_rating\": \"G\", \"total_gross\": 85000000.0, \"inflation_adjusted_gross\": 920608730.0}, {\"movie_title\": \"Cinderella\", \"hero\": \"Cinderella\", \"villian\": \"Lady Tremaine\", \"song\": \"Bibbidi-Bobbidi-Boo\", \"release_date\": \"2015-03-13T00:00:00\", \"genre\": \"Drama\", \"MPAA_rating\": \"PG\", \"total_gross\": 201151353.0, \"inflation_adjusted_gross\": 201151353.0}, {\"movie_title\": \"Alice in Wonderland\", \"hero\": \"Alice\", \"villian\": \"Queen of Hearts\", \"song\": \"The Unbirthday Song\", \"release_date\": \"2010-03-05T00:00:00\", \"genre\": \"Adventure\", \"MPAA_rating\": \"PG\", \"total_gross\": 334191110.0, \"inflation_adjusted_gross\": 357063499.0}, {\"movie_title\": \"Lady and the Tramp\", \"hero\": \"Lady and Tramp\", \"villian\": \"Si and Am\", \"song\": \"Bella Notte\", \"release_date\": \"1955-06-22T00:00:00\", \"genre\": \"Drama\", \"MPAA_rating\": \"G\", \"total_gross\": 93600000.0, \"inflation_adjusted_gross\": 1236035515.0}, {\"movie_title\": \"The Jungle Book\", \"hero\": \"Mowgli\", \"villian\": \"Kaa and Shere Khan\", \"song\": \"The Bare Necessities\\n\", \"release_date\": \"1967-10-18T00:00:00\", \"genre\": \"Musical\", \"MPAA_rating\": \"Not Rated\", \"total_gross\": 141843000.0, \"inflation_adjusted_gross\": 789612346.0}, {\"movie_title\": \"The Jungle Book\", \"hero\": \"Mowgli\", \"villian\": \"Kaa and Shere Khan\", \"song\": \"The Bare Necessities\\n\", \"release_date\": \"1994-12-25T00:00:00\", \"genre\": \"Adventure\", \"MPAA_rating\": \"PG\", \"total_gross\": 44342956.0, \"inflation_adjusted_gross\": 88930321.0}, {\"movie_title\": \"The Jungle Book\", \"hero\": \"Mowgli\", \"villian\": \"Kaa and Shere Khan\", \"song\": \"The Bare Necessities\\n\", \"release_date\": \"2016-04-15T00:00:00\", \"genre\": \"Adventure\", \"MPAA_rating\": \"PG\", \"total_gross\": 364001123.0, \"inflation_adjusted_gross\": 364001123.0}, {\"movie_title\": \"The Aristocats\", \"hero\": \"Thomas and Duchess\", \"villian\": \"Edgar Balthazar\", \"song\": \"Ev'rybody Wants to Be a Cat\", \"release_date\": \"1970-04-24T00:00:00\", \"genre\": \"Musical\", \"MPAA_rating\": \"G\", \"total_gross\": 55675257.0, \"inflation_adjusted_gross\": 255161499.0}, {\"movie_title\": \"Oliver & Company\", \"hero\": \"Oliver\", \"villian\": \"Sykes\", \"song\": \"Once Upon a Time in New York City\", \"release_date\": \"1988-11-18T00:00:00\", \"genre\": \"Adventure\", \"MPAA_rating\": \"G\", \"total_gross\": 49576671.0, \"inflation_adjusted_gross\": 102254492.0}, {\"movie_title\": \"The Little Mermaid\", \"hero\": \"Ariel\", \"villian\": \"Ursula\", \"song\": \"Under the Sea\", \"release_date\": \"1989-11-15T00:00:00\", \"genre\": \"Adventure\", \"MPAA_rating\": \"G\", \"total_gross\": 111543479.0, \"inflation_adjusted_gross\": 223726012.0}, {\"movie_title\": \"The Rescuers Down Under\", \"hero\": \"Bernard and Miss Bianca\", \"villian\": \"Percival C. McLeach\", \"song\": \"\\n\", \"release_date\": \"1990-11-16T00:00:00\", \"genre\": \"Adventure\", \"MPAA_rating\": \"G\", \"total_gross\": 27931461.0, \"inflation_adjusted_gross\": 55796728.0}, {\"movie_title\": \"Beauty and the Beast\", \"hero\": \"Belle\", \"villian\": \"Gaston\", \"song\": \"Be Our Guest\", \"release_date\": \"1991-11-13T00:00:00\", \"genre\": \"Musical\", \"MPAA_rating\": \"G\", \"total_gross\": 218951625.0, \"inflation_adjusted_gross\": 363017667.0}, {\"movie_title\": \"Aladdin\", \"hero\": \"Aladdin\", \"villian\": \"Jafar\", \"song\": \"A Whole New World\", \"release_date\": \"1992-11-11T00:00:00\", \"genre\": \"Comedy\", \"MPAA_rating\": \"G\", \"total_gross\": 217350219.0, \"inflation_adjusted_gross\": 441969178.0}, {\"movie_title\": \"The Lion King\", \"hero\": \"Simba\", \"villian\": \"Scar\", \"song\": \"Circle of Life\", \"release_date\": \"1994-06-15T00:00:00\", \"genre\": \"Adventure\", \"MPAA_rating\": \"G\", \"total_gross\": 422780140.0, \"inflation_adjusted_gross\": 761640898.0}, {\"movie_title\": \"Pocahontas\", \"hero\": \"Pocahontas\", \"villian\": \"Governor Ratcliffe\", \"song\": \"Colors of the Wind\", \"release_date\": \"1995-06-10T00:00:00\", \"genre\": \"Adventure\", \"MPAA_rating\": \"G\", \"total_gross\": 141579773.0, \"inflation_adjusted_gross\": 274370957.0}, {\"movie_title\": \"The Hunchback of Notre Dame\", \"hero\": \"Quasimodo\", \"villian\": \"Claude Frollo\", \"song\": \"God Help the Outcasts\", \"release_date\": \"1996-06-21T00:00:00\", \"genre\": \"Adventure\", \"MPAA_rating\": \"G\", \"total_gross\": 100138851.0, \"inflation_adjusted_gross\": 190988799.0}, {\"movie_title\": \"Hercules\", \"hero\": \"Hercules\", \"villian\": \"Hades\", \"song\": \"Go the Distance\", \"release_date\": \"1997-06-13T00:00:00\", \"genre\": \"Adventure\", \"MPAA_rating\": \"G\", \"total_gross\": 99112101.0, \"inflation_adjusted_gross\": 182029412.0}, {\"movie_title\": \"Mulan\", \"hero\": \"Mulan\", \"villian\": \"Shan Yu\", \"song\": \"I'll Make a Man Out of You\\n\", \"release_date\": \"1998-06-19T00:00:00\", \"genre\": \"Adventure\", \"MPAA_rating\": \"G\", \"total_gross\": 120620254.0, \"inflation_adjusted_gross\": 216807832.0}, {\"movie_title\": \"Tarzan\", \"hero\": \"Tarzan\", \"villian\": \"Clayton\", \"song\": \"You'll Be in My Heart\", \"release_date\": \"1999-06-16T00:00:00\", \"genre\": \"Adventure\", \"MPAA_rating\": \"G\", \"total_gross\": 171091819.0, \"inflation_adjusted_gross\": 283900254.0}, {\"movie_title\": \"The Emperor's New Groove\", \"hero\": \"Kuzco\", \"villian\": \"Yzma\", \"song\": \"My Funny Friend and Me\\n\", \"release_date\": \"2000-12-15T00:00:00\", \"genre\": \"Adventure\", \"MPAA_rating\": \"G\", \"total_gross\": 89296573.0, \"inflation_adjusted_gross\": 136789252.0}, {\"movie_title\": \"Atlantis: The Lost Empire\", \"hero\": \"Milo Thatch\", \"villian\": \"Commander Rourke\", \"song\": \"Where the Dream Takes You\", \"release_date\": \"2001-06-08T00:00:00\", \"genre\": \"Adventure\", \"MPAA_rating\": \"PG\", \"total_gross\": 84052762.0, \"inflation_adjusted_gross\": 125188122.0}, {\"movie_title\": \"Treasure Planet\", \"hero\": \"Jim Hawkins\", \"villian\": \"John Silver\", \"song\": \"I'm Still Here\\n\", \"release_date\": \"2002-11-27T00:00:00\", \"genre\": \"Adventure\", \"MPAA_rating\": \"PG\", \"total_gross\": 38120554.0, \"inflation_adjusted_gross\": 55189145.0}, {\"movie_title\": \"Brother Bear\", \"hero\": \"Kenai\", \"villian\": \"Denahi\", \"song\": \"Look Through My Eyes\", \"release_date\": \"2003-10-24T00:00:00\", \"genre\": \"Adventure\", \"MPAA_rating\": \"G\", \"total_gross\": 85336277.0, \"inflation_adjusted_gross\": 119218333.0}, {\"movie_title\": \"Meet the Robinsons\", \"hero\": \"Lewis\", \"villian\": \"Doris\", \"song\": \"Little Wonders\", \"release_date\": \"2007-03-30T00:00:00\", \"genre\": \"Adventure\", \"MPAA_rating\": \"G\", \"total_gross\": 97822171.0, \"inflation_adjusted_gross\": 119860589.0}, {\"movie_title\": \"Bolt\", \"hero\": \"Bolt\", \"villian\": \"Dr. Calico\", \"song\": \"I Thought I Lost You\", \"release_date\": \"2008-11-21T00:00:00\", \"genre\": \"Comedy\", \"MPAA_rating\": \"PG\", \"total_gross\": 114053759.0, \"inflation_adjusted_gross\": 133702498.0}, {\"movie_title\": \"The Princess and the Frog\", \"hero\": \"Tiana\", \"villian\": \"Dr. Facilier\", \"song\": \"Almost There\", \"release_date\": \"2009-11-25T00:00:00\", \"genre\": \"Adventure\", \"MPAA_rating\": \"G\", \"total_gross\": 104400899.0, \"inflation_adjusted_gross\": 116316457.0}, {\"movie_title\": \"Tangled\", \"hero\": \"Rapunzel\", \"villian\": \"Mother Gothel\", \"song\": \"I See the Light\", \"release_date\": \"2010-11-24T00:00:00\", \"genre\": \"Adventure\", \"MPAA_rating\": \"PG\", \"total_gross\": 200821936.0, \"inflation_adjusted_gross\": 214388548.0}, {\"movie_title\": \"Wreck-It Ralph\", \"hero\": \"Ralph\", \"villian\": \"Turbo\", \"song\": \"Sugar Rush\", \"release_date\": \"2012-11-02T00:00:00\", \"genre\": \"Adventure\", \"MPAA_rating\": \"PG\", \"total_gross\": 189412677.0, \"inflation_adjusted_gross\": 200354959.0}, {\"movie_title\": \"Frozen\", \"hero\": \"Elsa\", \"villian\": \"Prince Hans\", \"song\": \"Let It Go\\n\", \"release_date\": \"2013-11-22T00:00:00\", \"genre\": \"Adventure\", \"MPAA_rating\": \"PG\", \"total_gross\": 400738009.0, \"inflation_adjusted_gross\": 414997174.0}, {\"movie_title\": \"Big Hero 6\", \"hero\": \"Hiro Hamada\", \"villian\": \"Professor Callaghan\", \"song\": \"Immortals\", \"release_date\": \"2014-11-07T00:00:00\", \"genre\": \"Adventure\", \"MPAA_rating\": \"PG\", \"total_gross\": 222527828.0, \"inflation_adjusted_gross\": 229249222.0}]}}, {\"mode\": \"vega-lite\"});\n",
       "</script>"
      ],
      "text/plain": [
       "alt.Chart(...)"
      ]
     },
     "execution_count": 19,
     "metadata": {},
     "output_type": "execute_result"
    }
   ],
   "source": [
    "# use altair to plot a bar chart\n",
    "\n",
    "genre_chart = (\n",
    "    alt.Chart(combined_df, width = 500, height = 300).\n",
    "    mark_bar().\n",
    "    encode(\n",
    "        y = alt.Y(\"genre:N\", title = \"Movies Genre\", sort = '-x'),\n",
    "        x = alt.X(\"sum(inflation_adjusted_gross):Q\", title = \"Adjusted Gross\"),\n",
    "    ).properties(title = \"Adjusted Gross by Genre\")\n",
    ")\n",
    "\n",
    "genre_chart\n"
   ]
  },
  {
   "cell_type": "markdown",
   "metadata": {},
   "source": [
    " "
   ]
  },
  {
   "cell_type": "markdown",
   "metadata": {},
   "source": [
    "From the chart above, we can clearly see that adventure and musical movies represent the most significant revenue in children's movies.\n",
    "\n",
    "This is somewhat expected, since those genres of movies also represent a big portion of the movies made by The Walt Disney Company."
   ]
  },
  {
   "cell_type": "markdown",
   "metadata": {},
   "source": [
    " "
   ]
  },
  {
   "cell_type": "markdown",
   "metadata": {},
   "source": [
    "### Discussions\n",
    "<a id = 'discussions'></a>"
   ]
  },
  {
   "cell_type": "markdown",
   "metadata": {},
   "source": [
    "In this project, I analyzed The Walt Disney Company dataset focusing on children's movies, trying to find a relationship between the inflation-adjusted gross revenue, movies' genres and movies' hero characters. This project aimed to analyze data to predict the success of box office movies based on a solid hero character and its genres.\n",
    "\n",
    "When comparing the revenue against the movie's characters, a few insights were not what I expected. For example, even though the analysis shows that Snow White, a strong female character, represented the highest adjusted gross revenue, it is surprising that Elsa, Aladdin or Pocahontas did not make the Top 5 movies with the highest adjusted gross. \n",
    "\n",
    "Diving deeper into the genre of the movies, I can also get other important and surprising insights from the data. For example, not by surprise, adventure movies represent the highest adjusted gross; however, musical movies come in second place, pretty close to the adventure movies. \n",
    "\n",
    "Another question that could be looked at given this dataset is the impact the director of a movie has on its success. Of course, a director's job is very subject; however, one thing that is undeniable and is more relevant than ever is the importance of having an identifiable and unique point of view. "
   ]
  },
  {
   "cell_type": "markdown",
   "metadata": {},
   "source": [
    " "
   ]
  },
  {
   "cell_type": "markdown",
   "metadata": {},
   "source": [
    " "
   ]
  },
  {
   "cell_type": "markdown",
   "metadata": {},
   "source": [
    "### Reference\n",
    "<a id = 'reference'></a>"
   ]
  },
  {
   "cell_type": "markdown",
   "metadata": {},
   "source": [
    " "
   ]
  },
  {
   "cell_type": "markdown",
   "metadata": {},
   "source": [
    "- [Data Source](https://data.world/kgarrett/disney-character-success-00-16)\n",
    "    - This Disney database was obtained was curated by **Kelly Garret**.\n",
    "- [Question of Interest](https://data.world/kgarrett/disney-character-success-00-16/workspace/file?filename=DisneyReport.pdf)\n",
    "    - This question of interest was inspired by **Kelly Garret** and **Linchen Zhen**\n",
    "- [The Walt Disney Company](https://en.wikipedia.org/wiki/The_Walt_Disney_Company)\n",
    "    - The Wikipedia website regarding The Walt Disney Company"
   ]
  },
  {
   "cell_type": "markdown",
   "metadata": {},
   "source": [
    " "
   ]
  }
 ],
 "metadata": {
  "kernelspec": {
   "display_name": "Python 3 (ipykernel)",
   "language": "python",
   "name": "python3"
  },
  "language_info": {
   "codemirror_mode": {
    "name": "ipython",
    "version": 3
   },
   "file_extension": ".py",
   "mimetype": "text/x-python",
   "name": "python",
   "nbconvert_exporter": "python",
   "pygments_lexer": "ipython3",
   "version": "3.9.7"
  }
 },
 "nbformat": 4,
 "nbformat_minor": 4
}
